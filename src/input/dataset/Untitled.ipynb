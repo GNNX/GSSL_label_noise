{
 "cells": [
  {
   "cell_type": "code",
   "execution_count": 1,
   "metadata": {},
   "outputs": [],
   "source": [
    "from input.dataset.cifar10 import load_cifar10_batch, load_cifar10_test\n",
    "import numpy as np"
   ]
  },
  {
   "cell_type": "code",
   "execution_count": 2,
   "metadata": {},
   "outputs": [],
   "source": [
    "    X = np.zeros((70000,32,32,3))\n",
    "    Y = np.zeros((70000,))\n",
    "    i = 0\n",
    "    \n",
    "    for b_id in range(1,7):\n",
    "        if b_id == 6:\n",
    "            features, labels = load_cifar10_test()\n",
    "        else:\n",
    "            features, labels = load_cifar10_batch(b_id)\n",
    "        X[i:(i+features.shape[0]),:] = features\n",
    "        Y[i:(i+features.shape[0])] = labels\n",
    "        i += features.shape[0]\n",
    "    \n",
    "    "
   ]
  },
  {
   "cell_type": "code",
   "execution_count": null,
   "metadata": {},
   "outputs": [],
   "source": []
  }
 ],
 "metadata": {
  "kernelspec": {
   "display_name": "Python 3",
   "language": "python",
   "name": "python3"
  },
  "language_info": {
   "codemirror_mode": {
    "name": "ipython",
    "version": 3
   },
   "file_extension": ".py",
   "mimetype": "text/x-python",
   "name": "python",
   "nbconvert_exporter": "python",
   "pygments_lexer": "ipython3",
   "version": "3.5.2"
  }
 },
 "nbformat": 4,
 "nbformat_minor": 2
}
